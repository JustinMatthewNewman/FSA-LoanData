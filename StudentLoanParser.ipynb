{
 "cells": [
  {
   "cell_type": "code",
   "execution_count": 1,
   "id": "4f8cf0a4",
   "metadata": {},
   "outputs": [],
   "source": [
    "# Set-up notebook\n",
    "from IPython.display import clear_output\n",
    "import pandas as pd\n",
    "from datetime import datetime"
   ]
  },
  {
   "cell_type": "code",
   "execution_count": 2,
   "id": "7bd22f3f",
   "metadata": {},
   "outputs": [],
   "source": [
    "# Read and parse MyStudentData.txt\n",
    "delimiter = 'Loan Type Code:'\n",
    "loans = open('MyStudentData.txt', 'r').read().split(delimiter)\n",
    "loans.pop(0) # remove header info\n",
    "clear_output(wait=False)"
   ]
  },
  {
   "cell_type": "code",
   "execution_count": 3,
   "id": "e4a168e5",
   "metadata": {},
   "outputs": [],
   "source": [
    "# Split text into list of lists\n",
    "list_loans = []\n",
    "for loan in loans:\n",
    "    list_loans.append((delimiter + loan).split('\\n'))"
   ]
  },
  {
   "cell_type": "code",
   "execution_count": 4,
   "id": "65699383",
   "metadata": {},
   "outputs": [],
   "source": [
    "# Define fields to columns\n",
    "cols = [\n",
    "'Loan Type Code:',\n",
    "'Loan Type Description:',\n",
    "'Loan Award ID:',\n",
    "'Loan Attending School Name:',\n",
    "'Loan Date:',\n",
    "'Loan Repayment Begin Date:',\n",
    "'Loan Period Begin Date:',\n",
    "'Loan Period End Date:',\n",
    "'Loan Amount:',\n",
    "'Loan Disbursed Amount:',\n",
    "'Loan Canceled Amount:',\n",
    "'Loan Canceled Date:',\n",
    "'Loan Outstanding Principal Balance:',\n",
    "'Loan Outstanding Interest Balance:',\n",
    "'Loan Most Recent Payment Effective Date:',\n",
    "'Loan Next Payment Due Date:',\n",
    "'Loan Cumulative Payment Amount:',\n",
    "'Loan PSLF Cumulative Matched Months:',\n",
    "'Academic Level:',\n",
    "'Award Year:',\n",
    "'Capitalized Interest:',\n",
    "'Net Loan Amount:',\n",
    "'UpdtDt:',\n",
    "'Current Loan Status Description:',\n",
    "'Current Standard-Standard Schedule Payment Amount:',\n",
    "'Permanent Standard-Standard Schedule Payment Amount:',\n",
    "'Loan Status Effective Date:'\n",
    "]"
   ]
  },
  {
   "cell_type": "code",
   "execution_count": 5,
   "id": "b4b43c89",
   "metadata": {},
   "outputs": [],
   "source": [
    "# Clean data for dataframe ingestion\n",
    "data = []\n",
    "stop_len = len(cols)\n",
    "for loan in list_loans:\n",
    "    temp_loan = []\n",
    "    for c in cols:\n",
    "        for line in loan:\n",
    "            if line.startswith(c):\n",
    "                # strip dollar signs, commas, and % so they can be cast to floats\n",
    "                 temp_loan.append(line.split(':')[1].replace('$', '').replace(',', '').replace('%', ''))\n",
    "    # retain only last loan status date\n",
    "    if len(temp_loan) > stop_len:\n",
    "        for n in range(len(temp_loan) - stop_len):\n",
    "            temp_loan.pop()\n",
    "    data.append(temp_loan)"
   ]
  },
  {
   "cell_type": "code",
   "execution_count": 6,
   "id": "007ae1fa",
   "metadata": {},
   "outputs": [],
   "source": [
    "# Read data into dataframe\n",
    "df = pd.DataFrame.from_records(data, columns=list(map(lambda c: c.replace(':', ''), cols)), coerce_float=True)"
   ]
  },
  {
   "cell_type": "code",
   "execution_count": 8,
   "id": "feb790d2",
   "metadata": {},
   "outputs": [],
   "source": [
    "# Create timestamped file\n",
    "timestamp = datetime.utcnow().strftime('%Y%m%d%H%M%S')\n",
    "df.to_csv('MyStudentData'+timestamp+'.csv')"
   ]
  }
 ],
 "metadata": {
  "kernelspec": {
   "display_name": "Python 3 (ipykernel)",
   "language": "python",
   "name": "python3"
  },
  "language_info": {
   "codemirror_mode": {
    "name": "ipython",
    "version": 3
   },
   "file_extension": ".py",
   "mimetype": "text/x-python",
   "name": "python",
   "nbconvert_exporter": "python",
   "pygments_lexer": "ipython3",
   "version": "3.11.4"
  }
 },
 "nbformat": 4,
 "nbformat_minor": 5
}
